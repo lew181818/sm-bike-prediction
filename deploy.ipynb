{
 "cells": [
  {
   "cell_type": "code",
   "execution_count": 1,
   "id": "621f1136-5dfe-4cb5-8c17-9c7115055b78",
   "metadata": {},
   "outputs": [],
   "source": [
    "!mkdir -p code"
   ]
  },
  {
   "cell_type": "code",
   "execution_count": 2,
   "id": "65497be7-515e-4b11-a3a0-2ecd2153e416",
   "metadata": {},
   "outputs": [],
   "source": [
    "\n",
    "ARTIFACT_DATA = \"artifacts\"\n",
    "\n",
    "\n"
   ]
  },
  {
   "cell_type": "code",
   "execution_count": 3,
   "id": "108277b2-7793-4248-b82b-bc95fe12e951",
   "metadata": {},
   "outputs": [
    {
     "name": "stdout",
     "output_type": "stream",
     "text": [
      "sagemaker.config INFO - Not applying SDK defaults from location: /etc/xdg/sagemaker/config.yaml\n",
      "sagemaker.config INFO - Fetched defaults config from location: /home/sagemaker-user/.config/sagemaker/config.yaml\n",
      "sagemaker.config INFO - Applied value from config key = SageMaker.PythonSDK.Modules.Session.DefaultS3Bucket\n",
      "sagemaker.config INFO - Applied value from config key = SageMaker.PythonSDK.Modules.Session.DefaultS3ObjectKeyPrefix\n"
     ]
    }
   ],
   "source": [
    "import os\n",
    "import json\n",
    "import boto3\n",
    "import sagemaker\n",
    "import sagemaker.session\n",
    "\n",
    "from sagemaker import utils\n",
    "from sagemaker.estimator import Estimator\n",
    "from sagemaker.inputs import TrainingInput, CreateModelInput, TransformInput\n",
    "from sagemaker.model import Model\n",
    "from sagemaker.transformer import Transformer\n",
    "\n",
    "from sagemaker.model_metrics import MetricsSource, ModelMetrics, FileSource\n",
    "from sagemaker.drift_check_baselines import DriftCheckBaselines\n",
    "from sagemaker.processing import (\n",
    "    ProcessingInput,\n",
    "    ProcessingOutput,\n",
    "    ScriptProcessor,\n",
    ")\n",
    "from sagemaker.sklearn.processing import SKLearnProcessor\n",
    "from sagemaker.sklearn.model import SKLearnModel\n",
    "from sagemaker.workflow.conditions import ConditionLessThanOrEqualTo\n",
    "from sagemaker.workflow.condition_step import ConditionStep\n",
    "from sagemaker.workflow.functions import JsonGet\n",
    "\n",
    "from sagemaker.workflow.parameters import (\n",
    "    ParameterBoolean,\n",
    "    ParameterInteger,\n",
    "    ParameterString,\n",
    ")\n",
    "from sagemaker.workflow.pipeline import Pipeline\n",
    "from sagemaker.workflow.properties import PropertyFile\n",
    "from sagemaker.workflow.steps import (\n",
    "    ProcessingStep,\n",
    "    TrainingStep,\n",
    "    CreateModelStep,\n",
    "    TransformStep,\n",
    ")\n",
    "from sagemaker.workflow.model_step import ModelStep\n",
    "from sagemaker.workflow.pipeline_context import PipelineSession\n",
    "\n",
    "# Importing new steps and helper functions\n",
    "\n",
    "from sagemaker.workflow.check_job_config import CheckJobConfig\n",
    "from sagemaker.workflow.clarify_check_step import (\n",
    "    DataBiasCheckConfig,\n",
    "    ClarifyCheckStep,\n",
    "    ModelBiasCheckConfig,\n",
    "    ModelPredictedLabelConfig,\n",
    "    ModelExplainabilityCheckConfig,\n",
    "    SHAPConfig,\n",
    ")\n",
    "from sagemaker.workflow.quality_check_step import (\n",
    "    DataQualityCheckConfig,\n",
    "    ModelQualityCheckConfig,\n",
    "    QualityCheckStep,\n",
    ")\n",
    "from sagemaker.workflow.execution_variables import ExecutionVariables\n",
    "from sagemaker.workflow.functions import Join\n",
    "from sagemaker.model_monitor import DatasetFormat, model_monitoring\n",
    "from sagemaker.clarify import BiasConfig, DataConfig, ModelConfig"
   ]
  },
  {
   "cell_type": "code",
   "execution_count": 10,
   "id": "1d55b416-2a7b-4c72-a473-82cb890b7d85",
   "metadata": {},
   "outputs": [
    {
     "name": "stdout",
     "output_type": "stream",
     "text": [
      "sagemaker.config INFO - Applied value from config key = SageMaker.PythonSDK.Modules.Session.DefaultS3Bucket\n",
      "sagemaker.config INFO - Applied value from config key = SageMaker.PythonSDK.Modules.Session.DefaultS3ObjectKeyPrefix\n",
      "sagemaker.config INFO - Applied value from config key = SageMaker.PythonSDK.Modules.Session.DefaultS3Bucket\n",
      "sagemaker.config INFO - Applied value from config key = SageMaker.PythonSDK.Modules.Session.DefaultS3ObjectKeyPrefix\n",
      "sagemaker.config INFO - Applied value from config key = SageMaker.PythonSDK.Modules.Session.DefaultS3Bucket\n",
      "sagemaker.config INFO - Applied value from config key = SageMaker.PythonSDK.Modules.Session.DefaultS3ObjectKeyPrefix\n"
     ]
    }
   ],
   "source": [
    "region = sagemaker.Session().boto_region_name\n",
    "sm_client = boto3.client(\"sagemaker\")\n",
    "boto_session = boto3.Session(region_name=region)\n",
    "sagemaker_session = sagemaker.session.Session(boto_session=boto_session, sagemaker_client=sm_client)\n",
    "pipeline_session = PipelineSession()\n",
    "prefix = \"model-monitor-clarify-step-pipeline\""
   ]
  },
  {
   "cell_type": "code",
   "execution_count": 21,
   "id": "659b7823-82ec-41cb-a747-7274c83078e5",
   "metadata": {},
   "outputs": [
    {
     "name": "stdout",
     "output_type": "stream",
     "text": [
      "{'SchemaVersion': '1.0', 'SageMaker': {'PythonSDK': {'Modules': {'Session': {'DefaultS3Bucket': 'sagemaker-domain-dev', 'DefaultS3ObjectKeyPrefix': 'lauren-sso'}, 'RemoteFunction': {'S3KmsKeyId': 'arn:aws:kms:us-east-2:642693618675:key/fcc40d6b-e6e3-40e8-8128-d7fc136539f7', 'S3RootUri': 's3://sagemaker-domain-dev/lauren-sso', 'VolumeKmsKeyId': 'arn:aws:kms:us-east-2:642693618675:key/fcc40d6b-e6e3-40e8-8128-d7fc136539f7'}}}, 'TransformJob': {'DataCaptureConfig': {'KmsKeyId': 'arn:aws:kms:us-east-2:642693618675:key/fcc40d6b-e6e3-40e8-8128-d7fc136539f7'}, 'TransformOutput': {'KmsKeyId': 'arn:aws:kms:us-east-2:642693618675:key/fcc40d6b-e6e3-40e8-8128-d7fc136539f7'}, 'TransformResources': {'VolumeKmsKeyId': 'arn:aws:kms:us-east-2:642693618675:key/fcc40d6b-e6e3-40e8-8128-d7fc136539f7'}}, 'Pipeline': {'Tags': [{'Key': 'sagemaker:user-profile-arn', 'Value': 'arn:aws:sagemaker:us-east-2:642693618675:user-profile/d-zuyfohg0ma5d/lauren-sso'}, {'Key': 'domain_name', 'Value': 'sagemaker-domain-dev'}, {'Key': 'domain_kms_arn', 'Value': 'arn:aws:kms:us-east-2:642693618675:key/fcc40d6b-e6e3-40e8-8128-d7fc136539f7'}, {'Key': 'sagemaker:domain-arn', 'Value': 'arn:aws:sagemaker:us-east-2:642693618675:domain/d-zuyfohg0ma5d'}, {'Key': 'sagemaker:space-arn', 'Value': 'arn:aws:sagemaker:us-east-2:642693618675:space/d-zuyfohg0ma5d/lauren4'}, {'Key': 'ftb:app:owner', 'Value': 'Lauren McDonald'}, {'Key': 'ftb:app:contact', 'Value': 'lauren.mcdonald@53.com'}, {'Key': 'ftb:app:environment', 'Value': 'dev'}, {'Key': 'ftb:app:name', 'Value': 'Sagemaker - POC'}, {'Key': 'ftb:app:cmdbid', 'Value': 'TBD'}, {'Key': 'user', 'Value': 'lauren-sso'}]}, 'ProcessingJob': {'ProcessingOutputConfig': {'KmsKeyId': 'arn:aws:kms:us-east-2:642693618675:key/fcc40d6b-e6e3-40e8-8128-d7fc136539f7'}, 'ProcessingResources': {'ClusterConfig': {'VolumeKmsKeyId': 'arn:aws:kms:us-east-2:642693618675:key/fcc40d6b-e6e3-40e8-8128-d7fc136539f7'}}}, 'TrainingJob': {'OutputDataConfig': {'KmsKeyId': 'arn:aws:kms:us-east-2:642693618675:key/fcc40d6b-e6e3-40e8-8128-d7fc136539f7'}, 'ResourceConfig': {'VolumeKmsKeyId': 'arn:aws:kms:us-east-2:642693618675:key/fcc40d6b-e6e3-40e8-8128-d7fc136539f7'}}}}\n"
     ]
    }
   ],
   "source": [
    "print(sagemaker_session.sagemaker_config)"
   ]
  },
  {
   "cell_type": "code",
   "execution_count": 6,
   "id": "99c0384e-7965-410a-b7af-b877f38f5d30",
   "metadata": {},
   "outputs": [
    {
     "name": "stdout",
     "output_type": "stream",
     "text": [
      "sagemaker.config INFO - Applied value from config key = SageMaker.PythonSDK.Modules.Session.DefaultS3Bucket\n",
      "sagemaker.config INFO - Applied value from config key = SageMaker.PythonSDK.Modules.Session.DefaultS3ObjectKeyPrefix\n"
     ]
    }
   ],
   "source": [
    "role = sagemaker.get_execution_role()\n",
    "base_job_prefix = \"bike-predictions\"\n",
    "model_package_group_name = \"bike-share-model-group\"\n",
    "pipeline_name = \"bikepredictionpipeline\""
   ]
  },
  {
   "cell_type": "code",
   "execution_count": null,
   "id": "a6b43e80-a31c-4367-a873-647644fff907",
   "metadata": {},
   "outputs": [],
   "source": []
  },
  {
   "cell_type": "code",
   "execution_count": 15,
   "id": "4552cfe0-f2bb-4c02-a253-6d85c1784133",
   "metadata": {},
   "outputs": [],
   "source": [
    "processing_instance_count = ParameterInteger(name=\"ProcessingInstanceCount\", default_value=1)\n",
    "training_instance_type = ParameterString(name=\"TrainingInstanceType\", default_value=\"ml.t3.medium\")\n",
    "model_approval_status = ParameterString(\n",
    "    name=\"ModelApprovalStatus\", default_value=\"PendingManualApproval\"\n",
    ")\n",
    "# The dataset used here is the open source Abalone dataset that can be found\n",
    "# here - https://archive.ics.uci.edu/ml/datasets/abalone\n",
    "input_data = ParameterString(\n",
    "    name=\"InputDataUrl\",\n",
    "    default_value=f\"s3://{pipeline_session.default_bucket()}/{pipeline_session.default_bucket_prefix}/day.csv\",\n",
    ")"
   ]
  },
  {
   "cell_type": "code",
   "execution_count": 16,
   "id": "8fb7a1dc-1e6b-4c5f-a1d5-9e71d8ab17a2",
   "metadata": {},
   "outputs": [
    {
     "name": "stdout",
     "output_type": "stream",
     "text": [
      "Overwriting code/preprocess.py\n"
     ]
    }
   ],
   "source": [
    "%%writefile code/preprocess.py\n",
    "\n",
    "import os\n",
    "import boto3\n",
    "import numpy as np\n",
    "import pandas as pd\n",
    "import time\n",
    "\n",
    "import argparse\n",
    "import logging\n",
    "import pathlib\n",
    "import requests\n",
    "import tempfile\n",
    "\n",
    "\n",
    "\n",
    "logger = logging.getLogger()\n",
    "logger.setLevel(logging.INFO)\n",
    "logger.addHandler(logging.StreamHandler())\n",
    "\n",
    "\n",
    "if __name__ == \"__main__\":\n",
    "    logger.debug(\"Starting preprocessing.\")\n",
    "    parser = argparse.ArgumentParser()\n",
    "    parser.add_argument(\"--input-data\", type=str, required=True)\n",
    "    args = parser.parse_args()    \n",
    "    \n",
    "    base_dir = \"/opt/ml/processing\"\n",
    "    pathlib.Path(f\"{base_dir}/data\").mkdir(parents=True, exist_ok=True)\n",
    "    input_data = args.input_data\n",
    "    bucket = input_data.split(\"/\")[2]\n",
    "    key = \"/\".join(input_data.split(\"/\")[3:])\n",
    "\n",
    "    logger.info(\"Downloading data from bucket: %s, key: %s\", bucket, key)\n",
    "    fn = f\"{base_dir}/data/day.csv\"\n",
    "    s3 = boto3.resource(\"s3\")\n",
    "    s3.Bucket(bucket).download_file(key, fn)\n",
    "\n",
    "    logger.debug(\"Reading downloaded data.\")\n",
    "    bike = pd.read_csv(fn, sep=',')\n",
    "    os.unlink(fn)\n",
    "    \n",
    "    #Rename the columns\n",
    "    bike.rename(columns={'instant':'rec_id','dteday':'datetime','yr':'year','mnth':'month','weathersit':'weather_condition',\n",
    "                       'hum':'humidity','cnt':'total_count'},inplace=True)\n",
    "\n",
    "    #Type casting the datetime and numerical attributes to category\n",
    "\n",
    "    bike['datetime']=pd.to_datetime(bike.datetime, format=\"%d-%m-%Y\")\n",
    "    bike['season']=bike.season.astype('category')\n",
    "    bike['year']=bike.year.astype('category')\n",
    "    bike['month']=bike.month.astype('category')\n",
    "    bike['holiday']=bike.holiday.astype('category')\n",
    "    bike['weekday']=bike.weekday.astype('category')\n",
    "    bike['workingday']=bike.workingday.astype('category')\n",
    "    bike['weather_condition']=bike.weather_condition.astype('category')\n",
    "\n",
    "    #TODO - Add quality check to test for Nulls\n",
    "    \n",
    "    #create dataframe for outliers\n",
    "    wind_hum=pd.DataFrame(bike,columns=['windspeed','humidity'])\n",
    "     #Cnames for outliers                     \n",
    "    cnames=['windspeed','humidity']       \n",
    "                      \n",
    "    for i in cnames:\n",
    "        q75,q25=np.percentile(wind_hum.loc[:,i],[75,25]) # Divide data into 75%quantile and 25%quantile.\n",
    "        iqr=q75-q25 #Inter quantile range\n",
    "        min=q25-(iqr*1.5) #inner fence\n",
    "        max=q75+(iqr*1.5) #outer fence\n",
    "        wind_hum.loc[wind_hum.loc[:,i]<min,:i]=np.nan  #Replace with NA\n",
    "        wind_hum.loc[wind_hum.loc[:,i]>max,:i]=np.nan  #Replace with NA\n",
    "    #Imputating the outliers by mean Imputation\n",
    "    wind_hum['windspeed']=wind_hum['windspeed'].fillna(wind_hum['windspeed'].mean())\n",
    "    wind_hum['humidity']=wind_hum['humidity'].fillna(wind_hum['humidity'].mean())\n",
    "\n",
    "    #Replacing the imputated windspeed\n",
    "    bike['windspeed']=bike['windspeed'].replace(wind_hum['windspeed'])\n",
    "    #Replacing the imputated humidity\n",
    "    bike['humidity']=bike['humidity'].replace(wind_hum['humidity'])\n",
    "    \n",
    "    #Create a new dataset \n",
    "    features=bike[['season','month','year','weekday','holiday','workingday','weather_condition','humidity','temp','windspeed']]\n",
    "    #categorical attributes\n",
    "    cat_attributes=['season','holiday','workingday','weather_condition','year']\n",
    "    encoded_features=pd.get_dummies(features,columns=cat_attributes)\n",
    "    logger.info(f\"Shape of transfomed dataframe:: {encoded_features.shape}\")\n",
    "\n",
    "    \n",
    "    pd.DataFrame(encoded_features).to_csv(f\"{base_dir}/processed/data.csv\", header=False, index=False)\n",
    "\n"
   ]
  },
  {
   "cell_type": "code",
   "execution_count": 22,
   "id": "f75c3c55-1d36-4982-9ea0-a7a3b895cd99",
   "metadata": {},
   "outputs": [
    {
     "name": "stderr",
     "output_type": "stream",
     "text": [
      "INFO:sagemaker.image_uris:Defaulting to only available Python version: py3\n"
     ]
    },
    {
     "name": "stdout",
     "output_type": "stream",
     "text": [
      "sagemaker.config INFO - Applied value from config key = SageMaker.ProcessingJob.ProcessingOutputConfig.KmsKeyId\n",
      "sagemaker.config INFO - Applied value from config key = SageMaker.ProcessingJob.ProcessingResources.ClusterConfig.VolumeKmsKeyId\n"
     ]
    },
    {
     "name": "stderr",
     "output_type": "stream",
     "text": [
      "/opt/conda/lib/python3.11/site-packages/sagemaker/workflow/pipeline_context.py:332: UserWarning: Running within a PipelineSession, there will be No Wait, No Logs, and No Job being started.\n",
      "  warnings.warn(\n"
     ]
    }
   ],
   "source": [
    "sklearn_processor = SKLearnProcessor(\n",
    "    framework_version=\"0.23-1\",\n",
    "    instance_type=\"ml.t3.medium\",\n",
    "    instance_count=processing_instance_count,\n",
    "    base_job_name=f\"{base_job_prefix}/xgboost-bike-predictions-preprocess\",\n",
    "    sagemaker_session=pipeline_session,\n",
    "    role=role,\n",
    ")\n",
    "processor_args = sklearn_processor.run(\n",
    "    outputs=[\n",
    "        ProcessingOutput(output_name=\"processed\", \n",
    "                         source=\"/opt/ml/processing/processed\",\n",
    "                         destination=f\"s3://{pipeline_session.default_bucket()}/{pipeline_session.default_bucket_prefix}/processed\")\n",
    "    ],\n",
    "    code=\"code/preprocess.py\",\n",
    "    arguments=[\"--input-data\", input_data],\n",
    ")\n",
    "step_process = ProcessingStep(name=\"PreprocessBikeData\", step_args=processor_args)"
   ]
  },
  {
   "cell_type": "markdown",
   "id": "6e258d33-0f70-466f-a71f-68e669c626fb",
   "metadata": {},
   "source": [
    "# Define pipeline steps for model inference"
   ]
  },
  {
   "cell_type": "code",
   "execution_count": 23,
   "id": "befedf31-8e36-479f-aefd-292c0d1d623e",
   "metadata": {},
   "outputs": [
    {
     "name": "stdout",
     "output_type": "stream",
     "text": [
      "Latest approved model package ARN: bike-share-model-group-rf-v1\n",
      "Model inference specification: {'Image': '257758044811.dkr.ecr.us-east-2.amazonaws.com/sagemaker-xgboost:1.7-1', 'ImageDigest': 'sha256:dc8a4cde38c9404662c39e33b8477595ba86632b9de313408ac5238b316997cb', 'ModelDataUrl': 's3://sagemaker-domain-dev/artifacts/demo-xgboost-model/model', 'ModelDataETag': 'ec3fa86c00a63ef6ad9035802dca6c43'}\n"
     ]
    }
   ],
   "source": [
    "import boto3\n",
    "\n",
    "# Initialize the SageMaker client\n",
    "sagemaker_client = boto3.client('sagemaker')\n",
    "\n",
    "# Define the model package group name\n",
    "model_package_group_name = 'bike-share-model-group-rf'\n",
    "\n",
    "# List the model packages with the 'Approved' status\n",
    "response = sagemaker_client.list_model_packages(\n",
    "    ModelPackageGroupName=model_package_group_name,\n",
    "    ModelApprovalStatus='Approved',\n",
    "    SortBy='CreationTime',\n",
    "    SortOrder='Descending'\n",
    ")\n",
    "\n",
    "# Get the latest approved model package\n",
    "latest_approved_model = response['ModelPackageSummaryList'][0]\n",
    "model_package_arn = latest_approved_model['ModelPackageArn']\n",
    "model_version = latest_approved_model['ModelPackageVersion']\n",
    "model_name = model_package_group_name + \"-v\" + str(model_version)\n",
    "\n",
    "# Describe the model package to get configuration\n",
    "model_package_details = sagemaker_client.describe_model_package(ModelPackageName=model_package_arn)\n",
    "\n",
    "model_inference_specification = model_package_details['InferenceSpecification']['Containers'][0]\n",
    "print(f\"Latest approved model package ARN: {model_name}\")\n",
    "print(f\"Model inference specification: {model_inference_specification}\")"
   ]
  },
  {
   "cell_type": "markdown",
   "id": "f2889fc8-28a5-4175-89f4-3ba89dffb745",
   "metadata": {},
   "source": [
    "# Testing model inference and container in local studio instance\n",
    "Reference documentation for local mode: https://docs.aws.amazon.com/sagemaker/latest/dg/studio-updated-local.html"
   ]
  },
  {
   "cell_type": "code",
   "execution_count": 26,
   "id": "065648ec-bc29-47a9-b179-dfe73e3e4e45",
   "metadata": {},
   "outputs": [
    {
     "name": "stdout",
     "output_type": "stream",
     "text": [
      "sagemaker.config INFO - Applied value from config key = SageMaker.PythonSDK.Modules.Session.DefaultS3Bucket\n",
      "sagemaker.config INFO - Applied value from config key = SageMaker.PythonSDK.Modules.Session.DefaultS3ObjectKeyPrefix\n"
     ]
    },
    {
     "name": "stderr",
     "output_type": "stream",
     "text": [
      "INFO:sagemaker:Creating model with name: BikeModel\n",
      "INFO:sagemaker.telemetry.telemetry_logging:SageMaker Python SDK will collect telemetry to help us better understand our user's needs, diagnose issues, and deliver additional features.\n",
      "To opt out of telemetry, please disable via TelemetryOptOut parameter in SDK defaults config. For more information, refer to https://sagemaker.readthedocs.io/en/stable/overview.html#configuring-and-using-defaults-with-the-sagemaker-python-sdk.\n"
     ]
    },
    {
     "name": "stdout",
     "output_type": "stream",
     "text": [
      "sagemaker.config INFO - Applied value from config key = SageMaker.TransformJob.TransformResources.VolumeKmsKeyId\n",
      "sagemaker.config INFO - Applied value from config key = SageMaker.TransformJob.TransformOutput.KmsKeyId\n"
     ]
    },
    {
     "name": "stderr",
     "output_type": "stream",
     "text": [
      "INFO:sagemaker:Creating transform job with name: sagemaker-xgboost-2025-02-25-17-11-16-475\n",
      "INFO:sagemaker.telemetry.telemetry_logging:SageMaker Python SDK will collect telemetry to help us better understand our user's needs, diagnose issues, and deliver additional features.\n",
      "To opt out of telemetry, please disable via TelemetryOptOut parameter in SDK defaults config. For more information, refer to https://sagemaker.readthedocs.io/en/stable/overview.html#configuring-and-using-defaults-with-the-sagemaker-python-sdk.\n",
      "INFO:sagemaker.local.image:'Docker Compose' found using Docker CLI.\n",
      "INFO:sagemaker.local.image:serving\n",
      "INFO:sagemaker.local.image:creating hosting dir in /home/sagemaker-user/tmp/tmpu6v3u23h\n",
      "WARNING! Your password will be stored unencrypted in /home/sagemaker-user/.docker/config.json.\n",
      "Configure a credential helper to remove this warning. See\n",
      "https://docs.docker.com/engine/reference/commandline/login/#credential-stores\n",
      "\n",
      "INFO:sagemaker.local.image:docker command: docker pull 257758044811.dkr.ecr.us-east-2.amazonaws.com/sagemaker-xgboost:1.7-1\n"
     ]
    },
    {
     "name": "stdout",
     "output_type": "stream",
     "text": [
      "Login Succeeded\n"
     ]
    },
    {
     "name": "stderr",
     "output_type": "stream",
     "text": [
      "INFO:sagemaker.local.image:image pulled: 257758044811.dkr.ecr.us-east-2.amazonaws.com/sagemaker-xgboost:1.7-1\n",
      "WARNING:sagemaker.local.image:Using the short-lived AWS credentials found in session. They might expire while running.\n",
      "INFO:sagemaker.local.image:docker compose file: \n",
      "services:\n",
      "  sagemaker-local:\n",
      "    command: serve\n",
      "    container_name: phel0vo2s6-sagemaker-local\n",
      "    environment:\n",
      "    - '[Masked]'\n",
      "    - '[Masked]'\n",
      "    - '[Masked]'\n",
      "    - '[Masked]'\n",
      "    - '[Masked]'\n",
      "    - '[Masked]'\n",
      "    - '[Masked]'\n",
      "    image: 257758044811.dkr.ecr.us-east-2.amazonaws.com/sagemaker-xgboost:1.7-1\n",
      "    network_mode: sagemaker\n",
      "    stdin_open: true\n",
      "    tty: true\n",
      "    volumes:\n",
      "    - /home/sagemaker-user/tmp/tmp8al9geqp:/opt/ml/model\n",
      "version: '2.3'\n",
      "\n",
      "INFO:sagemaker.local.image:docker command: docker compose -f /home/sagemaker-user/tmp/tmpu6v3u23h/docker-compose.yaml up --build --abort-on-container-exit\n",
      "INFO:sagemaker.local.entities:Checking if serving container is up, attempt: 5\n",
      "WARNING:urllib3.connectionpool:Retrying (Retry(total=2, connect=None, read=None, redirect=None, status=None)) after connection broken by 'NewConnectionError('<urllib3.connection.HTTPConnection object at 0x7fccb3caaa50>: Failed to establish a new connection: [Errno 111] Connection refused')': /ping\n",
      "WARNING:urllib3.connectionpool:Retrying (Retry(total=1, connect=None, read=None, redirect=None, status=None)) after connection broken by 'NewConnectionError('<urllib3.connection.HTTPConnection object at 0x7fccb3ca9810>: Failed to establish a new connection: [Errno 111] Connection refused')': /ping\n",
      "WARNING:urllib3.connectionpool:Retrying (Retry(total=0, connect=None, read=None, redirect=None, status=None)) after connection broken by 'NewConnectionError('<urllib3.connection.HTTPConnection object at 0x7fccb3cc1450>: Failed to establish a new connection: [Errno 111] Connection refused')': /ping\n",
      "INFO:sagemaker.local.entities:Container still not up, got: -1\n"
     ]
    },
    {
     "name": "stdout",
     "output_type": "stream",
     "text": [
      "Attaching to phel0vo2s6-sagemaker-local\n",
      "phel0vo2s6-sagemaker-local  | [2025-02-25:17:13:03:INFO] No GPUs detected (normal if no gpus installed)\n",
      "phel0vo2s6-sagemaker-local  | [2025-02-25:17:13:03:INFO] No GPUs detected (normal if no gpus installed)\n",
      "phel0vo2s6-sagemaker-local  | [2025-02-25:17:13:03:INFO] nginx config: \n",
      "phel0vo2s6-sagemaker-local  | worker_processes auto;\n",
      "phel0vo2s6-sagemaker-local  | daemon off;\n",
      "phel0vo2s6-sagemaker-local  | pid /tmp/nginx.pid;\n",
      "phel0vo2s6-sagemaker-local  | error_log  /dev/stderr;\n",
      "phel0vo2s6-sagemaker-local  | \n",
      "phel0vo2s6-sagemaker-local  | worker_rlimit_nofile 4096;\n",
      "phel0vo2s6-sagemaker-local  | \n",
      "phel0vo2s6-sagemaker-local  | events {\n",
      "phel0vo2s6-sagemaker-local  |   worker_connections 2048;\n",
      "phel0vo2s6-sagemaker-local  | }\n",
      "phel0vo2s6-sagemaker-local  | \n",
      "phel0vo2s6-sagemaker-local  | http {\n",
      "phel0vo2s6-sagemaker-local  |   include /etc/nginx/mime.types;\n",
      "phel0vo2s6-sagemaker-local  |   default_type application/octet-stream;\n",
      "phel0vo2s6-sagemaker-local  |   access_log /dev/stdout combined;\n",
      "phel0vo2s6-sagemaker-local  | \n",
      "phel0vo2s6-sagemaker-local  |   upstream gunicorn {\n",
      "phel0vo2s6-sagemaker-local  |     server unix:/tmp/gunicorn.sock;\n",
      "phel0vo2s6-sagemaker-local  |   }\n",
      "phel0vo2s6-sagemaker-local  | \n",
      "phel0vo2s6-sagemaker-local  |   server {\n",
      "phel0vo2s6-sagemaker-local  |     listen 8080 deferred;\n",
      "phel0vo2s6-sagemaker-local  |     client_max_body_size 0;\n",
      "phel0vo2s6-sagemaker-local  | \n",
      "phel0vo2s6-sagemaker-local  |     keepalive_timeout 3;\n",
      "phel0vo2s6-sagemaker-local  | \n",
      "phel0vo2s6-sagemaker-local  |     location ~ ^/(ping|invocations|execution-parameters) {\n",
      "phel0vo2s6-sagemaker-local  |       proxy_set_header X-Forwarded-For $proxy_add_x_forwarded_for;\n",
      "phel0vo2s6-sagemaker-local  |       proxy_set_header Host $http_host;\n",
      "phel0vo2s6-sagemaker-local  |       proxy_redirect off;\n",
      "phel0vo2s6-sagemaker-local  |       proxy_read_timeout 60s;\n",
      "phel0vo2s6-sagemaker-local  |       proxy_pass http://gunicorn;\n",
      "phel0vo2s6-sagemaker-local  |     }\n",
      "phel0vo2s6-sagemaker-local  | \n",
      "phel0vo2s6-sagemaker-local  |     location / {\n",
      "phel0vo2s6-sagemaker-local  |       return 404 \"{}\";\n",
      "phel0vo2s6-sagemaker-local  |     }\n",
      "phel0vo2s6-sagemaker-local  | \n",
      "phel0vo2s6-sagemaker-local  |   }\n",
      "phel0vo2s6-sagemaker-local  | }\n",
      "phel0vo2s6-sagemaker-local  | \n",
      "phel0vo2s6-sagemaker-local  | \n",
      "phel0vo2s6-sagemaker-local  | [2025-02-25 17:13:04 +0000] [14] [INFO] Starting gunicorn 19.10.0\n",
      "phel0vo2s6-sagemaker-local  | [2025-02-25 17:13:04 +0000] [14] [INFO] Listening at: unix:/tmp/gunicorn.sock (14)\n",
      "phel0vo2s6-sagemaker-local  | [2025-02-25 17:13:04 +0000] [14] [INFO] Using worker: gevent\n",
      "phel0vo2s6-sagemaker-local  | /miniconda3/lib/python3.9/os.py:1023: RuntimeWarning: line buffering (buffering=1) isn't supported in binary mode, the default buffer size will be used\n",
      "phel0vo2s6-sagemaker-local  |   return io.open(fd, *args, **kwargs)\n",
      "phel0vo2s6-sagemaker-local  | [2025-02-25 17:13:04 +0000] [17] [INFO] Booting worker with pid: 17\n",
      "phel0vo2s6-sagemaker-local  | [2025-02-25 17:13:04 +0000] [18] [INFO] Booting worker with pid: 18\n"
     ]
    },
    {
     "name": "stderr",
     "output_type": "stream",
     "text": [
      "INFO:sagemaker.local.entities:Checking if serving container is up, attempt: 10\n"
     ]
    },
    {
     "name": "stdout",
     "output_type": "stream",
     "text": [
      "phel0vo2s6-sagemaker-local  | [2025-02-25:17:13:06:INFO] No GPUs detected (normal if no gpus installed)\n",
      "phel0vo2s6-sagemaker-local  | [2025-02-25:17:13:06:INFO] Loading the model from /opt/ml/model/model\n",
      "phel0vo2s6-sagemaker-local  | [2025-02-25:17:13:06:INFO] Model objective : reg:squarederror\n",
      "phel0vo2s6-sagemaker-local  | [2025-02-25:17:13:06:INFO] No GPUs detected (normal if no gpus installed)\n",
      "phel0vo2s6-sagemaker-local  | 127.0.0.1 - - [25/Feb/2025:17:13:06 +0000] \"GET /ping HTTP/1.1\" 200 0 \"-\" \"python-urllib3/1.26.19\"\n",
      "phel0vo2s6-sagemaker-local  | 127.0.0.1 - - [25/Feb/2025:17:13:06 +0000] \"GET /execution-parameters HTTP/1.1\" 200 84 \"-\" \"python-urllib3/1.26.19\"\n",
      "phel0vo2s6-sagemaker-local  | [2025-02-25:17:13:06:INFO] No GPUs detected (normal if no gpus installed)\n",
      "phel0vo2s6-sagemaker-local  | [2025-02-25:17:13:06:INFO] Loading the model from /opt/ml/model/model\n",
      "phel0vo2s6-sagemaker-local  | [2025-02-25:17:13:06:INFO] Model objective : reg:squarederror\n",
      "."
     ]
    }
   ],
   "source": [
    "from sagemaker.local import LocalSession\n",
    "\n",
    "local_sagemaker_session = LocalSession(boto_session=boto_session)\n",
    "local_sagemaker_session.config = {'local': {'local_code': True}}\n",
    "\n",
    "local_model = Model(\n",
    "    image_uri=model_inference_specification['Image'],\n",
    "    name=\"BikeModel\",\n",
    "    model_data=f\"{model_inference_specification['ModelDataUrl']}\",\n",
    "    sagemaker_session=local_sagemaker_session,\n",
    "    role=role,\n",
    "    # entry_point=\"inference.py\",\n",
    "    # env={\"SAGEMAKER_PROGRAM\": \"inference.py\",\n",
    "    # \"SAGEMAKER_SUBMIT_DIRECTORY\": \"/opt/ml/model/\",\n",
    "    # },\n",
    ")\n",
    "\n",
    "local_model.create(instance_type=\"ml.m5.large\")\n",
    "\n",
    "#Define the transformer\n",
    "local_transformer = Transformer(\n",
    "    model_name=local_model.name,\n",
    "    instance_type=\"ml.m4.xlarge\",\n",
    "    instance_count=1,\n",
    "    output_path=f\"s3://{pipeline_session.default_bucket()}/BikePredictions\",\n",
    "    accept=\"text/csv\",\n",
    "    assemble_with=\"Line\",\n",
    "    sagemaker_session=local_sagemaker_session,\n",
    "    strategy=\"MultiRecord\", \n",
    ")\n",
    "\n",
    "local_transformer.transform(\n",
    "    data=f's3://{pipeline_session.default_bucket()}/{pipeline_session.default_bucket_prefix}/bikepredictionpipeline/j3xr2zx180ik/PreprocessBikeData/output/processed/data.csv', \n",
    "    data_type='S3Prefix', \n",
    "    content_type=\"text/csv\",\n",
    "    split_type=\"Line\",\n",
    "    join_source=\"Input\",\n",
    "    wait=True,\n",
    "    logs=True,\n",
    "    )\n"
   ]
  },
  {
   "cell_type": "markdown",
   "id": "82e8222a-dae9-42df-ac35-edcf28b0c293",
   "metadata": {},
   "source": [
    "# Define pipeline inference steps and create model"
   ]
  },
  {
   "cell_type": "code",
   "execution_count": 29,
   "id": "6df86966-1b52-419a-be8b-5c7ae274d4f5",
   "metadata": {},
   "outputs": [
    {
     "name": "stderr",
     "output_type": "stream",
     "text": [
      "INFO:sagemaker:Creating model with name: bike-share-model-group-rf-v1\n",
      "WARNING:sagemaker:Using already existing model: bike-share-model-group-rf-v1\n"
     ]
    }
   ],
   "source": [
    "pipeline_model = Model(\n",
    "    image_uri=model_inference_specification['Image'],\n",
    "    name=model_name,\n",
    "    model_data=f\"{model_inference_specification['ModelDataUrl']}.tar.gz\",\n",
    "    sagemaker_session=sagemaker_session,\n",
    "    role=role,\n",
    "    # entry_point=\"inference.py\",\n",
    "    # env={\"SAGEMAKER_PROGRAM\": \"inference.py\",\n",
    "    # \"SAGEMAKER_SUBMIT_DIRECTORY\": \"/opt/ml/model/\",\n",
    "    # },\n",
    ")\n",
    "\n",
    "pipeline_model.create(instance_type=\"ml.m5.large\")\n"
   ]
  },
  {
   "cell_type": "code",
   "execution_count": 30,
   "id": "7103ea9b-6635-4d0a-9e0a-a403453f47bf",
   "metadata": {},
   "outputs": [
    {
     "name": "stdout",
     "output_type": "stream",
     "text": [
      "sagemaker.config INFO - Applied value from config key = SageMaker.PythonSDK.Modules.Session.DefaultS3Bucket\n",
      "sagemaker.config INFO - Applied value from config key = SageMaker.PythonSDK.Modules.Session.DefaultS3ObjectKeyPrefix\n",
      "sagemaker.config INFO - Applied value from config key = SageMaker.TransformJob.TransformResources.VolumeKmsKeyId\n",
      "sagemaker.config INFO - Applied value from config key = SageMaker.TransformJob.TransformOutput.KmsKeyId\n"
     ]
    }
   ],
   "source": [
    "# Define the transformer\n",
    "transformer = Transformer(\n",
    "    model_name=model_name,\n",
    "    instance_type=\"ml.m4.xlarge\",\n",
    "    instance_count=1,\n",
    "    output_path=f\"s3://{pipeline_session.default_bucket()}/{pipeline_session.default_bucket_prefix}/BikePredictions\",\n",
    "    accept=\"text/csv\",\n",
    "    assemble_with=\"Line\",\n",
    ")\n",
    "\n",
    "data=step_process.properties.ProcessingOutputConfig.Outputs[\"processed\"].S3Output.S3Uri\n",
    "# data='s3://sagemaker-us-east-2-233603974917/bikepredictionpipeline/j3xr2zx180ik/PreprocessBikeData/output/processed' \n",
    "\n",
    "\n",
    "step_transform = TransformStep(\n",
    "    name=f\"Transform\",\n",
    "    transformer=transformer,\n",
    "    inputs=TransformInput(\n",
    "        data=data,\n",
    "        # input_filter=\"$[1:]\",\n",
    "        join_source=\"Input\",\n",
    "        # output_filter=\"$[0,-1]\",\n",
    "        content_type=\"text/csv\",\n",
    "        split_type=\"Line\",\n",
    "    ),\n",
    "    \n",
    "    \n",
    ")"
   ]
  },
  {
   "cell_type": "code",
   "execution_count": null,
   "id": "28cd40a3-c468-46ff-9f91-d3f888a92f8c",
   "metadata": {},
   "outputs": [],
   "source": []
  },
  {
   "cell_type": "code",
   "execution_count": 31,
   "id": "132c590b-af0f-425b-b7fd-caa8f3cb22dd",
   "metadata": {},
   "outputs": [],
   "source": [
    "# pipeline instance\n",
    "pipeline = Pipeline(\n",
    "    name=pipeline_name,\n",
    "    parameters=[\n",
    "        processing_instance_count,\n",
    "        training_instance_type,\n",
    "        model_approval_status,\n",
    "        input_data,\n",
    "    ],\n",
    "    steps=[\n",
    "        step_process,\n",
    "        step_transform,\n",
    "    ],\n",
    "    sagemaker_session=pipeline_session,\n",
    ")"
   ]
  },
  {
   "cell_type": "code",
   "execution_count": 32,
   "id": "a94e9fbc-f4d5-49f2-b643-d210d3b8ccea",
   "metadata": {},
   "outputs": [
    {
     "name": "stderr",
     "output_type": "stream",
     "text": [
      "WARNING:sagemaker.workflow.utilities:Popping out 'ProcessingJobName' from the pipeline definition by default since it will be overridden at pipeline execution time. Please utilize the PipelineDefinitionConfig to persist this field in the pipeline definition if desired.\n",
      "WARNING:sagemaker.workflow.utilities:Popping out 'TransformJobName' from the pipeline definition by default since it will be overridden at pipeline execution time. Please utilize the PipelineDefinitionConfig to persist this field in the pipeline definition if desired.\n"
     ]
    },
    {
     "data": {
      "text/plain": [
       "{'Version': '2020-12-01',\n",
       " 'Metadata': {},\n",
       " 'Parameters': [{'Name': 'ProcessingInstanceCount',\n",
       "   'Type': 'Integer',\n",
       "   'DefaultValue': 1},\n",
       "  {'Name': 'TrainingInstanceType',\n",
       "   'Type': 'String',\n",
       "   'DefaultValue': 'ml.t3.medium'},\n",
       "  {'Name': 'ModelApprovalStatus',\n",
       "   'Type': 'String',\n",
       "   'DefaultValue': 'PendingManualApproval'},\n",
       "  {'Name': 'InputDataUrl',\n",
       "   'Type': 'String',\n",
       "   'DefaultValue': 's3://sagemaker-domain-dev/lauren-sso/day.csv'}],\n",
       " 'PipelineExperimentConfig': {'ExperimentName': {'Get': 'Execution.PipelineName'},\n",
       "  'TrialName': {'Get': 'Execution.PipelineExecutionId'}},\n",
       " 'Steps': [{'Name': 'PreprocessBikeData',\n",
       "   'Type': 'Processing',\n",
       "   'Arguments': {'ProcessingResources': {'ClusterConfig': {'VolumeKmsKeyId': 'arn:aws:kms:us-east-2:642693618675:key/fcc40d6b-e6e3-40e8-8128-d7fc136539f7',\n",
       "      'InstanceType': 'ml.t3.medium',\n",
       "      'InstanceCount': {'Get': 'Parameters.ProcessingInstanceCount'},\n",
       "      'VolumeSizeInGB': 30}},\n",
       "    'AppSpecification': {'ImageUri': '257758044811.dkr.ecr.us-east-2.amazonaws.com/sagemaker-scikit-learn:0.23-1-cpu-py3',\n",
       "     'ContainerArguments': ['--input-data',\n",
       "      {'Get': 'Parameters.InputDataUrl'}],\n",
       "     'ContainerEntrypoint': ['python3',\n",
       "      '/opt/ml/processing/input/code/preprocess.py']},\n",
       "    'RoleArn': 'arn:aws:iam::642693618675:role/lauren-ssoExecutionRole',\n",
       "    'ProcessingInputs': [{'InputName': 'code',\n",
       "      'AppManaged': False,\n",
       "      'S3Input': {'S3Uri': 's3://sagemaker-domain-dev/lauren-sso/bikepredictionpipeline/code/96db6729741a22899401b8489bbcf708/preprocess.py',\n",
       "       'LocalPath': '/opt/ml/processing/input/code',\n",
       "       'S3DataType': 'S3Prefix',\n",
       "       'S3InputMode': 'File',\n",
       "       'S3DataDistributionType': 'FullyReplicated',\n",
       "       'S3CompressionType': 'None'}}],\n",
       "    'ProcessingOutputConfig': {'KmsKeyId': 'arn:aws:kms:us-east-2:642693618675:key/fcc40d6b-e6e3-40e8-8128-d7fc136539f7',\n",
       "     'Outputs': [{'OutputName': 'processed',\n",
       "       'AppManaged': False,\n",
       "       'S3Output': {'S3Uri': 's3://sagemaker-domain-dev/lauren-sso/processed',\n",
       "        'LocalPath': '/opt/ml/processing/processed',\n",
       "        'S3UploadMode': 'EndOfJob'}}]}}},\n",
       "  {'Name': 'Transform',\n",
       "   'Type': 'Transform',\n",
       "   'Arguments': {'ModelName': 'bike-share-model-group-rf-v1',\n",
       "    'TransformInput': {'DataSource': {'S3DataSource': {'S3DataType': 'S3Prefix',\n",
       "       'S3Uri': {'Get': \"Steps.PreprocessBikeData.ProcessingOutputConfig.Outputs['processed'].S3Output.S3Uri\"}}},\n",
       "     'ContentType': 'text/csv',\n",
       "     'SplitType': 'Line'},\n",
       "    'TransformOutput': {'S3OutputPath': 's3://sagemaker-domain-dev/lauren-sso/BikePredictions',\n",
       "     'KmsKeyId': 'arn:aws:kms:us-east-2:642693618675:key/fcc40d6b-e6e3-40e8-8128-d7fc136539f7',\n",
       "     'AssembleWith': 'Line',\n",
       "     'Accept': 'text/csv'},\n",
       "    'TransformResources': {'InstanceCount': 1,\n",
       "     'InstanceType': 'ml.m4.xlarge',\n",
       "     'VolumeKmsKeyId': 'arn:aws:kms:us-east-2:642693618675:key/fcc40d6b-e6e3-40e8-8128-d7fc136539f7'},\n",
       "    'DataProcessing': {'JoinSource': 'Input'}}}]}"
      ]
     },
     "execution_count": 32,
     "metadata": {},
     "output_type": "execute_result"
    }
   ],
   "source": [
    "import json\n",
    "\n",
    "definition = json.loads(pipeline.definition())\n",
    "definition"
   ]
  },
  {
   "cell_type": "code",
   "execution_count": 33,
   "id": "53283187-bda3-4471-8fb9-fa02536077da",
   "metadata": {},
   "outputs": [
    {
     "name": "stdout",
     "output_type": "stream",
     "text": [
      "sagemaker.config INFO - Applied value(s) from config key = SageMaker.Pipeline.Tags\n"
     ]
    },
    {
     "name": "stderr",
     "output_type": "stream",
     "text": [
      "WARNING:sagemaker.workflow.utilities:Popping out 'ProcessingJobName' from the pipeline definition by default since it will be overridden at pipeline execution time. Please utilize the PipelineDefinitionConfig to persist this field in the pipeline definition if desired.\n",
      "WARNING:sagemaker.workflow.utilities:Popping out 'TransformJobName' from the pipeline definition by default since it will be overridden at pipeline execution time. Please utilize the PipelineDefinitionConfig to persist this field in the pipeline definition if desired.\n"
     ]
    },
    {
     "data": {
      "text/plain": [
       "{'PipelineArn': 'arn:aws:sagemaker:us-east-2:642693618675:pipeline/bikepredictionpipeline',\n",
       " 'ResponseMetadata': {'RequestId': '4b1116c5-adf8-4d95-9bf1-6c2573bd9590',\n",
       "  'HTTPStatusCode': 200,\n",
       "  'HTTPHeaders': {'x-amzn-requestid': '4b1116c5-adf8-4d95-9bf1-6c2573bd9590',\n",
       "   'content-type': 'application/x-amz-json-1.1',\n",
       "   'content-length': '90',\n",
       "   'date': 'Tue, 25 Feb 2025 17:14:38 GMT'},\n",
       "  'RetryAttempts': 0}}"
      ]
     },
     "execution_count": 33,
     "metadata": {},
     "output_type": "execute_result"
    }
   ],
   "source": [
    "pipeline.upsert(role_arn=role)\n"
   ]
  },
  {
   "cell_type": "code",
   "execution_count": 34,
   "id": "89021634-ff50-4259-ba8c-c390a5ed08b6",
   "metadata": {},
   "outputs": [],
   "source": [
    "execution = pipeline.start()"
   ]
  },
  {
   "cell_type": "code",
   "execution_count": null,
   "id": "6b58b004-423d-4c27-bdfc-fb8d0cd4f5c7",
   "metadata": {},
   "outputs": [],
   "source": []
  }
 ],
 "metadata": {
  "kernelspec": {
   "display_name": "Python 3 (ipykernel)",
   "language": "python",
   "name": "python3"
  },
  "language_info": {
   "codemirror_mode": {
    "name": "ipython",
    "version": 3
   },
   "file_extension": ".py",
   "mimetype": "text/x-python",
   "name": "python",
   "nbconvert_exporter": "python",
   "pygments_lexer": "ipython3",
   "version": "3.11.11"
  }
 },
 "nbformat": 4,
 "nbformat_minor": 5
}
